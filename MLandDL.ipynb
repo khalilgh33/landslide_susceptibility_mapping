{
 "cells": [
  {
   "cell_type": "code",
   "execution_count": 1,
   "metadata": {},
   "outputs": [],
   "source": [
    "import os\n",
    "import numpy as np\n",
    "import geopandas as gpd"
   ]
  },
  {
   "cell_type": "code",
   "execution_count": 2,
   "metadata": {},
   "outputs": [],
   "source": [
    "os.chdir(r\"E:\\my_activity\\talar\\Talar\")"
   ]
  },
  {
   "cell_type": "code",
   "execution_count": 3,
   "metadata": {},
   "outputs": [
    {
     "data": {
      "text/html": [
       "<div>\n",
       "<style scoped>\n",
       "    .dataframe tbody tr th:only-of-type {\n",
       "        vertical-align: middle;\n",
       "    }\n",
       "\n",
       "    .dataframe tbody tr th {\n",
       "        vertical-align: top;\n",
       "    }\n",
       "\n",
       "    .dataframe thead th {\n",
       "        text-align: right;\n",
       "    }\n",
       "</style>\n",
       "<table border=\"1\" class=\"dataframe\">\n",
       "  <thead>\n",
       "    <tr style=\"text-align: right;\">\n",
       "      <th></th>\n",
       "      <th>landslide</th>\n",
       "      <th>aspect</th>\n",
       "      <th>curvature</th>\n",
       "      <th>dem</th>\n",
       "      <th>dis_fault</th>\n",
       "      <th>dis_rivers</th>\n",
       "      <th>dis_roads</th>\n",
       "      <th>geology</th>\n",
       "      <th>ndvi</th>\n",
       "      <th>slope</th>\n",
       "      <th>TWI</th>\n",
       "      <th>geometry</th>\n",
       "    </tr>\n",
       "  </thead>\n",
       "  <tbody>\n",
       "    <tr>\n",
       "      <th>0</th>\n",
       "      <td>1</td>\n",
       "      <td>200.3480</td>\n",
       "      <td>0.134143</td>\n",
       "      <td>1979</td>\n",
       "      <td>1621.970</td>\n",
       "      <td>1202.590</td>\n",
       "      <td>159.204</td>\n",
       "      <td>4</td>\n",
       "      <td>0.640719</td>\n",
       "      <td>9.79564</td>\n",
       "      <td>5.51556</td>\n",
       "      <td>POINT Z (698717.758 3987265.427 0.000)</td>\n",
       "    </tr>\n",
       "    <tr>\n",
       "      <th>1</th>\n",
       "      <td>1</td>\n",
       "      <td>56.3938</td>\n",
       "      <td>-0.268286</td>\n",
       "      <td>2373</td>\n",
       "      <td>891.445</td>\n",
       "      <td>2934.820</td>\n",
       "      <td>136.517</td>\n",
       "      <td>4</td>\n",
       "      <td>0.223214</td>\n",
       "      <td>33.92810</td>\n",
       "      <td>4.88805</td>\n",
       "      <td>POINT Z (660286.607 3985370.803 0.000)</td>\n",
       "    </tr>\n",
       "    <tr>\n",
       "      <th>2</th>\n",
       "      <td>1</td>\n",
       "      <td>350.1060</td>\n",
       "      <td>5.499870</td>\n",
       "      <td>493</td>\n",
       "      <td>1001.330</td>\n",
       "      <td>675.447</td>\n",
       "      <td>628.570</td>\n",
       "      <td>6</td>\n",
       "      <td>0.723589</td>\n",
       "      <td>46.44230</td>\n",
       "      <td>3.60129</td>\n",
       "      <td>POINT Z (669162.406 4015433.251 0.000)</td>\n",
       "    </tr>\n",
       "    <tr>\n",
       "      <th>3</th>\n",
       "      <td>1</td>\n",
       "      <td>301.1580</td>\n",
       "      <td>2.012150</td>\n",
       "      <td>501</td>\n",
       "      <td>1306.570</td>\n",
       "      <td>273.033</td>\n",
       "      <td>342.110</td>\n",
       "      <td>3</td>\n",
       "      <td>0.687533</td>\n",
       "      <td>33.30540</td>\n",
       "      <td>5.15042</td>\n",
       "      <td>POINT Z (669985.232 4016236.274 0.000)</td>\n",
       "    </tr>\n",
       "    <tr>\n",
       "      <th>4</th>\n",
       "      <td>1</td>\n",
       "      <td>-0.0000</td>\n",
       "      <td>-0.134143</td>\n",
       "      <td>478</td>\n",
       "      <td>911.294</td>\n",
       "      <td>213.246</td>\n",
       "      <td>610.521</td>\n",
       "      <td>3</td>\n",
       "      <td>0.706312</td>\n",
       "      <td>26.64850</td>\n",
       "      <td>6.34193</td>\n",
       "      <td>POINT Z (672826.651 4016706.500 0.000)</td>\n",
       "    </tr>\n",
       "    <tr>\n",
       "      <th>...</th>\n",
       "      <td>...</td>\n",
       "      <td>...</td>\n",
       "      <td>...</td>\n",
       "      <td>...</td>\n",
       "      <td>...</td>\n",
       "      <td>...</td>\n",
       "      <td>...</td>\n",
       "      <td>...</td>\n",
       "      <td>...</td>\n",
       "      <td>...</td>\n",
       "      <td>...</td>\n",
       "      <td>...</td>\n",
       "    </tr>\n",
       "    <tr>\n",
       "      <th>635</th>\n",
       "      <td>0</td>\n",
       "      <td>320.5080</td>\n",
       "      <td>-0.134143</td>\n",
       "      <td>1987</td>\n",
       "      <td>613.566</td>\n",
       "      <td>2244.360</td>\n",
       "      <td>371.366</td>\n",
       "      <td>4</td>\n",
       "      <td>0.584678</td>\n",
       "      <td>10.69100</td>\n",
       "      <td>6.63453</td>\n",
       "      <td>POINT Z (699711.538 3986952.664 0.000)</td>\n",
       "    </tr>\n",
       "    <tr>\n",
       "      <th>636</th>\n",
       "      <td>0</td>\n",
       "      <td>31.7209</td>\n",
       "      <td>-0.134143</td>\n",
       "      <td>1936</td>\n",
       "      <td>810.408</td>\n",
       "      <td>2294.940</td>\n",
       "      <td>172.682</td>\n",
       "      <td>4</td>\n",
       "      <td>0.561526</td>\n",
       "      <td>6.51402</td>\n",
       "      <td>8.06491</td>\n",
       "      <td>POINT Z (699793.433 3987398.593 0.000)</td>\n",
       "    </tr>\n",
       "    <tr>\n",
       "      <th>637</th>\n",
       "      <td>0</td>\n",
       "      <td>17.1745</td>\n",
       "      <td>-0.268286</td>\n",
       "      <td>1929</td>\n",
       "      <td>993.857</td>\n",
       "      <td>2198.050</td>\n",
       "      <td>115.838</td>\n",
       "      <td>4</td>\n",
       "      <td>0.583911</td>\n",
       "      <td>7.71918</td>\n",
       "      <td>6.87510</td>\n",
       "      <td>POINT Z (699693.641 3987577.573 0.000)</td>\n",
       "    </tr>\n",
       "    <tr>\n",
       "      <th>638</th>\n",
       "      <td>0</td>\n",
       "      <td>180.0000</td>\n",
       "      <td>0.134143</td>\n",
       "      <td>1971</td>\n",
       "      <td>1749.550</td>\n",
       "      <td>1623.570</td>\n",
       "      <td>426.492</td>\n",
       "      <td>4</td>\n",
       "      <td>0.582831</td>\n",
       "      <td>1.85433</td>\n",
       "      <td>7.33461</td>\n",
       "      <td>POINT Z (698604.838 3988513.495 0.000)</td>\n",
       "    </tr>\n",
       "    <tr>\n",
       "      <th>639</th>\n",
       "      <td>0</td>\n",
       "      <td>270.0000</td>\n",
       "      <td>0.402429</td>\n",
       "      <td>1977</td>\n",
       "      <td>2007.860</td>\n",
       "      <td>1513.800</td>\n",
       "      <td>410.459</td>\n",
       "      <td>4</td>\n",
       "      <td>0.592378</td>\n",
       "      <td>1.14656</td>\n",
       "      <td>7.38809</td>\n",
       "      <td>POINT Z (698694.689 3988284.435 0.000)</td>\n",
       "    </tr>\n",
       "  </tbody>\n",
       "</table>\n",
       "<p>640 rows × 12 columns</p>\n",
       "</div>"
      ],
      "text/plain": [
       "     landslide    aspect  curvature   dem  dis_fault  dis_rivers  dis_roads  \\\n",
       "0            1  200.3480   0.134143  1979   1621.970    1202.590    159.204   \n",
       "1            1   56.3938  -0.268286  2373    891.445    2934.820    136.517   \n",
       "2            1  350.1060   5.499870   493   1001.330     675.447    628.570   \n",
       "3            1  301.1580   2.012150   501   1306.570     273.033    342.110   \n",
       "4            1   -0.0000  -0.134143   478    911.294     213.246    610.521   \n",
       "..         ...       ...        ...   ...        ...         ...        ...   \n",
       "635          0  320.5080  -0.134143  1987    613.566    2244.360    371.366   \n",
       "636          0   31.7209  -0.134143  1936    810.408    2294.940    172.682   \n",
       "637          0   17.1745  -0.268286  1929    993.857    2198.050    115.838   \n",
       "638          0  180.0000   0.134143  1971   1749.550    1623.570    426.492   \n",
       "639          0  270.0000   0.402429  1977   2007.860    1513.800    410.459   \n",
       "\n",
       "     geology      ndvi     slope      TWI  \\\n",
       "0          4  0.640719   9.79564  5.51556   \n",
       "1          4  0.223214  33.92810  4.88805   \n",
       "2          6  0.723589  46.44230  3.60129   \n",
       "3          3  0.687533  33.30540  5.15042   \n",
       "4          3  0.706312  26.64850  6.34193   \n",
       "..       ...       ...       ...      ...   \n",
       "635        4  0.584678  10.69100  6.63453   \n",
       "636        4  0.561526   6.51402  8.06491   \n",
       "637        4  0.583911   7.71918  6.87510   \n",
       "638        4  0.582831   1.85433  7.33461   \n",
       "639        4  0.592378   1.14656  7.38809   \n",
       "\n",
       "                                   geometry  \n",
       "0    POINT Z (698717.758 3987265.427 0.000)  \n",
       "1    POINT Z (660286.607 3985370.803 0.000)  \n",
       "2    POINT Z (669162.406 4015433.251 0.000)  \n",
       "3    POINT Z (669985.232 4016236.274 0.000)  \n",
       "4    POINT Z (672826.651 4016706.500 0.000)  \n",
       "..                                      ...  \n",
       "635  POINT Z (699711.538 3986952.664 0.000)  \n",
       "636  POINT Z (699793.433 3987398.593 0.000)  \n",
       "637  POINT Z (699693.641 3987577.573 0.000)  \n",
       "638  POINT Z (698604.838 3988513.495 0.000)  \n",
       "639  POINT Z (698694.689 3988284.435 0.000)  \n",
       "\n",
       "[640 rows x 12 columns]"
      ]
     },
     "execution_count": 3,
     "metadata": {},
     "output_type": "execute_result"
    }
   ],
   "source": [
    "data = gpd.read_file('landslide_data.shp')\n",
    "data"
   ]
  },
  {
   "cell_type": "code",
   "execution_count": 30,
   "metadata": {},
   "outputs": [],
   "source": [
    "data_array = np.array(data)"
   ]
  },
  {
   "cell_type": "code",
   "execution_count": 31,
   "metadata": {},
   "outputs": [
    {
     "data": {
      "text/plain": [
       "(640, 10)"
      ]
     },
     "execution_count": 31,
     "metadata": {},
     "output_type": "execute_result"
    }
   ],
   "source": [
    "X = data_array[:,1:11]\n",
    "X.shape"
   ]
  },
  {
   "cell_type": "code",
   "execution_count": 36,
   "metadata": {},
   "outputs": [
    {
     "data": {
      "text/plain": [
       "(640, 1)"
      ]
     },
     "execution_count": 36,
     "metadata": {},
     "output_type": "execute_result"
    }
   ],
   "source": [
    "Y = data_array[:,:1]\n",
    "# one_columns = np.ones((640,1))\n",
    "# Y = np.column_stack([Y, one_columns])\n",
    "Y= Y.astype(int)\n",
    "Y.shape"
   ]
  },
  {
   "cell_type": "code",
   "execution_count": 37,
   "metadata": {},
   "outputs": [
    {
     "name": "stdout",
     "output_type": "stream",
     "text": [
      "shape of X train (512, 10)\n",
      "shape of X test (128, 10)\n",
      "shape of y train (512, 1)\n",
      "shape of y test (128, 1)\n"
     ]
    }
   ],
   "source": [
    "from sklearn.model_selection import train_test_split\n",
    "X_train, X_test, y_train, y_test = train_test_split(X,Y, test_size=0.2, random_state=42,)\n",
    "print('shape of X train', X_train.shape)\n",
    "print(\"shape of X test\", X_test.shape)\n",
    "print(\"shape of y train\", y_train.shape)\n",
    "print(\"shape of y test\", y_test.shape)"
   ]
  },
  {
   "cell_type": "code",
   "execution_count": 96,
   "metadata": {},
   "outputs": [],
   "source": [
    "X_train = np.asarray(X_train).astype('float32')\n",
    "y_train = np.asarray(y_train).astype('float32')\n",
    "X_test = np.asarray(X_test).astype('float32')\n",
    "y_test = np.asarray(y_test).astype('float32')\n"
   ]
  },
  {
   "cell_type": "code",
   "execution_count": 97,
   "metadata": {},
   "outputs": [],
   "source": [
    "from sklearn.preprocessing import StandardScaler\n",
    "scaler = StandardScaler()\n",
    "X_train_scaled = scaler.fit_transform(X_train)\n",
    "#X_test_scaled = scaler.fit(X_test)"
   ]
  },
  {
   "cell_type": "code",
   "execution_count": 44,
   "metadata": {},
   "outputs": [
    {
     "name": "stdout",
     "output_type": "stream",
     "text": [
      "              precision    recall  f1-score   support\n",
      "\n",
      "           0       0.86      0.46      0.60        67\n",
      "           1       0.61      0.92      0.73        61\n",
      "\n",
      "    accuracy                           0.68       128\n",
      "   macro avg       0.73      0.69      0.67       128\n",
      "weighted avg       0.74      0.68      0.66       128\n",
      "\n"
     ]
    },
    {
     "name": "stderr",
     "output_type": "stream",
     "text": [
      "d:\\Anaconda\\Lib\\site-packages\\sklearn\\utils\\validation.py:1184: DataConversionWarning: A column-vector y was passed when a 1d array was expected. Please change the shape of y to (n_samples, ), for example using ravel().\n",
      "  y = column_or_1d(y, warn=True)\n"
     ]
    }
   ],
   "source": [
    "from sklearn.linear_model import LogisticRegression\n",
    "from sklearn.metrics import classification_report\n",
    "model_lr = LogisticRegression()\n",
    "model_lr.fit(X_train_scaled, y_train)\n",
    "y_pred = model_lr.predict(X_test)\n",
    "accuracy = classification_report(y_test, y_pred)\n",
    "print(accuracy)"
   ]
  },
  {
   "cell_type": "code",
   "execution_count": 54,
   "metadata": {},
   "outputs": [
    {
     "name": "stdout",
     "output_type": "stream",
     "text": [
      "              precision    recall  f1-score   support\n",
      "\n",
      "           0       0.62      0.58      0.60        67\n",
      "           1       0.57      0.61      0.59        61\n",
      "\n",
      "    accuracy                           0.59       128\n",
      "   macro avg       0.59      0.59      0.59       128\n",
      "weighted avg       0.60      0.59      0.59       128\n",
      "\n"
     ]
    },
    {
     "name": "stderr",
     "output_type": "stream",
     "text": [
      "d:\\Anaconda\\Lib\\site-packages\\sklearn\\utils\\validation.py:1184: DataConversionWarning: A column-vector y was passed when a 1d array was expected. Please change the shape of y to (n_samples, ), for example using ravel().\n",
      "  y = column_or_1d(y, warn=True)\n"
     ]
    }
   ],
   "source": [
    "from sklearn.svm import SVC \n",
    "model_svm = SVC(kernel='poly', gamma=1,)\n",
    "model_svm.fit(X_train_scaled,y_train)\n",
    "y_pred = model_svm.predict(X_test)\n",
    "accuracy=classification_report(y_test, y_pred)\n",
    "print(accuracy)"
   ]
  },
  {
   "cell_type": "code",
   "execution_count": 60,
   "metadata": {},
   "outputs": [
    {
     "name": "stderr",
     "output_type": "stream",
     "text": [
      "d:\\Anaconda\\Lib\\site-packages\\sklearn\\base.py:1151: DataConversionWarning: A column-vector y was passed when a 1d array was expected. Please change the shape of y to (n_samples,), for example using ravel().\n",
      "  return fit_method(estimator, *args, **kwargs)\n"
     ]
    },
    {
     "name": "stdout",
     "output_type": "stream",
     "text": [
      "              precision    recall  f1-score   support\n",
      "\n",
      "           0       0.00      0.00      0.00        67\n",
      "           1       0.48      1.00      0.65        61\n",
      "\n",
      "    accuracy                           0.48       128\n",
      "   macro avg       0.24      0.50      0.32       128\n",
      "weighted avg       0.23      0.48      0.31       128\n",
      "\n"
     ]
    },
    {
     "name": "stderr",
     "output_type": "stream",
     "text": [
      "d:\\Anaconda\\Lib\\site-packages\\sklearn\\metrics\\_classification.py:1469: UndefinedMetricWarning: Precision and F-score are ill-defined and being set to 0.0 in labels with no predicted samples. Use `zero_division` parameter to control this behavior.\n",
      "  _warn_prf(average, modifier, msg_start, len(result))\n",
      "d:\\Anaconda\\Lib\\site-packages\\sklearn\\metrics\\_classification.py:1469: UndefinedMetricWarning: Precision and F-score are ill-defined and being set to 0.0 in labels with no predicted samples. Use `zero_division` parameter to control this behavior.\n",
      "  _warn_prf(average, modifier, msg_start, len(result))\n",
      "d:\\Anaconda\\Lib\\site-packages\\sklearn\\metrics\\_classification.py:1469: UndefinedMetricWarning: Precision and F-score are ill-defined and being set to 0.0 in labels with no predicted samples. Use `zero_division` parameter to control this behavior.\n",
      "  _warn_prf(average, modifier, msg_start, len(result))\n"
     ]
    }
   ],
   "source": [
    "from sklearn.ensemble import RandomForestClassifier\n",
    "model_rf = RandomForestClassifier(n_estimators=100)\n",
    "model_rf.fit(X_train_scaled, y_train)\n",
    "y_pred = model_rf.predict(X_test)\n",
    "accuracy = classification_report(y_test, y_pred)\n",
    "print(accuracy)"
   ]
  },
  {
   "cell_type": "code",
   "execution_count": 108,
   "metadata": {},
   "outputs": [
    {
     "name": "stdout",
     "output_type": "stream",
     "text": [
      "Epoch 1/100\n",
      "103/103 [==============================] - 2s 5ms/step - loss: 0.2255 - accuracy: 0.6523 - val_loss: 0.1721 - val_accuracy: 0.7422\n",
      "Epoch 2/100\n",
      "103/103 [==============================] - 0s 3ms/step - loss: 0.1540 - accuracy: 0.7676 - val_loss: 0.1589 - val_accuracy: 0.7734\n",
      "Epoch 3/100\n",
      "103/103 [==============================] - 0s 3ms/step - loss: 0.1552 - accuracy: 0.7793 - val_loss: 0.1450 - val_accuracy: 0.7891\n",
      "Epoch 4/100\n",
      "103/103 [==============================] - 0s 3ms/step - loss: 0.1397 - accuracy: 0.8125 - val_loss: 0.1578 - val_accuracy: 0.7578\n",
      "Epoch 5/100\n",
      "103/103 [==============================] - 0s 3ms/step - loss: 0.1449 - accuracy: 0.8008 - val_loss: 0.1254 - val_accuracy: 0.8438\n",
      "Epoch 6/100\n",
      "103/103 [==============================] - 0s 3ms/step - loss: 0.1374 - accuracy: 0.7988 - val_loss: 0.1243 - val_accuracy: 0.8438\n",
      "Epoch 7/100\n",
      "103/103 [==============================] - 0s 3ms/step - loss: 0.1336 - accuracy: 0.8164 - val_loss: 0.1400 - val_accuracy: 0.7812\n",
      "Epoch 8/100\n",
      "103/103 [==============================] - 0s 3ms/step - loss: 0.1365 - accuracy: 0.8184 - val_loss: 0.1320 - val_accuracy: 0.8203\n",
      "Epoch 9/100\n",
      "103/103 [==============================] - 0s 3ms/step - loss: 0.1297 - accuracy: 0.8125 - val_loss: 0.1150 - val_accuracy: 0.8438\n",
      "Epoch 10/100\n",
      "103/103 [==============================] - 0s 3ms/step - loss: 0.1496 - accuracy: 0.7891 - val_loss: 0.1376 - val_accuracy: 0.8047\n",
      "Epoch 11/100\n",
      "103/103 [==============================] - 0s 3ms/step - loss: 0.1216 - accuracy: 0.8359 - val_loss: 0.1189 - val_accuracy: 0.8359\n",
      "Epoch 12/100\n",
      "103/103 [==============================] - 0s 3ms/step - loss: 0.1252 - accuracy: 0.8418 - val_loss: 0.1447 - val_accuracy: 0.8125\n",
      "Epoch 13/100\n",
      "103/103 [==============================] - 0s 3ms/step - loss: 0.1231 - accuracy: 0.8301 - val_loss: 0.1212 - val_accuracy: 0.8516\n",
      "Epoch 14/100\n",
      "103/103 [==============================] - 0s 3ms/step - loss: 0.1253 - accuracy: 0.8203 - val_loss: 0.1364 - val_accuracy: 0.8281\n",
      "Epoch 15/100\n",
      "103/103 [==============================] - 0s 3ms/step - loss: 0.1221 - accuracy: 0.8281 - val_loss: 0.1190 - val_accuracy: 0.8281\n",
      "Epoch 16/100\n",
      "103/103 [==============================] - 0s 3ms/step - loss: 0.1190 - accuracy: 0.8398 - val_loss: 0.1188 - val_accuracy: 0.8125\n",
      "Epoch 17/100\n",
      "103/103 [==============================] - 0s 3ms/step - loss: 0.1152 - accuracy: 0.8379 - val_loss: 0.1219 - val_accuracy: 0.8516\n",
      "Epoch 18/100\n",
      "103/103 [==============================] - 0s 3ms/step - loss: 0.1169 - accuracy: 0.8320 - val_loss: 0.1208 - val_accuracy: 0.8516\n",
      "Epoch 19/100\n",
      "103/103 [==============================] - 0s 3ms/step - loss: 0.1182 - accuracy: 0.8203 - val_loss: 0.1115 - val_accuracy: 0.8516\n",
      "Epoch 20/100\n",
      "103/103 [==============================] - 0s 2ms/step - loss: 0.1141 - accuracy: 0.8242 - val_loss: 0.1141 - val_accuracy: 0.8750\n",
      "Epoch 21/100\n",
      "103/103 [==============================] - 0s 2ms/step - loss: 0.1084 - accuracy: 0.8535 - val_loss: 0.1276 - val_accuracy: 0.8516\n",
      "Epoch 22/100\n",
      "103/103 [==============================] - 0s 2ms/step - loss: 0.1094 - accuracy: 0.8516 - val_loss: 0.1196 - val_accuracy: 0.8359\n",
      "Epoch 23/100\n",
      "103/103 [==============================] - 0s 2ms/step - loss: 0.1092 - accuracy: 0.8535 - val_loss: 0.1065 - val_accuracy: 0.8672\n",
      "Epoch 24/100\n",
      "103/103 [==============================] - 0s 3ms/step - loss: 0.1105 - accuracy: 0.8477 - val_loss: 0.1208 - val_accuracy: 0.8438\n",
      "Epoch 25/100\n",
      "103/103 [==============================] - 0s 2ms/step - loss: 0.1107 - accuracy: 0.8516 - val_loss: 0.1259 - val_accuracy: 0.8672\n",
      "Epoch 26/100\n",
      "103/103 [==============================] - 0s 3ms/step - loss: 0.1156 - accuracy: 0.8496 - val_loss: 0.1094 - val_accuracy: 0.8672\n",
      "Epoch 27/100\n",
      "103/103 [==============================] - 0s 3ms/step - loss: 0.1150 - accuracy: 0.8555 - val_loss: 0.1480 - val_accuracy: 0.8359\n",
      "Epoch 28/100\n",
      "103/103 [==============================] - 0s 3ms/step - loss: 0.1153 - accuracy: 0.8496 - val_loss: 0.0921 - val_accuracy: 0.8750\n",
      "Epoch 29/100\n",
      "103/103 [==============================] - 0s 3ms/step - loss: 0.1099 - accuracy: 0.8535 - val_loss: 0.1147 - val_accuracy: 0.8594\n",
      "Epoch 30/100\n",
      "103/103 [==============================] - 0s 3ms/step - loss: 0.1057 - accuracy: 0.8574 - val_loss: 0.0985 - val_accuracy: 0.8672\n",
      "Epoch 31/100\n",
      "103/103 [==============================] - 0s 3ms/step - loss: 0.1031 - accuracy: 0.8652 - val_loss: 0.1228 - val_accuracy: 0.8438\n",
      "Epoch 32/100\n",
      "103/103 [==============================] - 0s 3ms/step - loss: 0.0949 - accuracy: 0.8789 - val_loss: 0.1279 - val_accuracy: 0.8359\n",
      "Epoch 33/100\n",
      "103/103 [==============================] - 0s 2ms/step - loss: 0.0984 - accuracy: 0.8574 - val_loss: 0.1084 - val_accuracy: 0.8516\n",
      "Epoch 34/100\n",
      "103/103 [==============================] - 0s 3ms/step - loss: 0.1027 - accuracy: 0.8594 - val_loss: 0.1997 - val_accuracy: 0.7422\n",
      "Epoch 35/100\n",
      "103/103 [==============================] - 0s 3ms/step - loss: 0.1080 - accuracy: 0.8633 - val_loss: 0.1222 - val_accuracy: 0.8672\n",
      "Epoch 36/100\n",
      "103/103 [==============================] - 0s 3ms/step - loss: 0.1122 - accuracy: 0.8516 - val_loss: 0.1103 - val_accuracy: 0.8359\n",
      "Epoch 37/100\n",
      "103/103 [==============================] - 0s 3ms/step - loss: 0.1021 - accuracy: 0.8691 - val_loss: 0.0953 - val_accuracy: 0.8750\n",
      "Epoch 38/100\n",
      "103/103 [==============================] - 0s 3ms/step - loss: 0.0960 - accuracy: 0.8691 - val_loss: 0.0794 - val_accuracy: 0.9219\n",
      "Epoch 39/100\n",
      "103/103 [==============================] - 0s 3ms/step - loss: 0.1015 - accuracy: 0.8555 - val_loss: 0.1283 - val_accuracy: 0.8203\n",
      "Epoch 40/100\n",
      "103/103 [==============================] - 0s 3ms/step - loss: 0.0966 - accuracy: 0.8789 - val_loss: 0.1013 - val_accuracy: 0.8672\n",
      "Epoch 41/100\n",
      "103/103 [==============================] - 0s 3ms/step - loss: 0.0974 - accuracy: 0.8613 - val_loss: 0.0989 - val_accuracy: 0.8594\n",
      "Epoch 42/100\n",
      "103/103 [==============================] - 0s 3ms/step - loss: 0.0999 - accuracy: 0.8613 - val_loss: 0.1211 - val_accuracy: 0.8438\n",
      "Epoch 43/100\n",
      "103/103 [==============================] - 0s 3ms/step - loss: 0.0991 - accuracy: 0.8594 - val_loss: 0.0903 - val_accuracy: 0.9062\n",
      "Epoch 44/100\n",
      "103/103 [==============================] - 0s 3ms/step - loss: 0.0980 - accuracy: 0.8594 - val_loss: 0.0959 - val_accuracy: 0.8906\n",
      "Epoch 45/100\n",
      "103/103 [==============================] - 0s 3ms/step - loss: 0.0908 - accuracy: 0.8887 - val_loss: 0.0985 - val_accuracy: 0.8828\n",
      "Epoch 46/100\n",
      "103/103 [==============================] - 0s 3ms/step - loss: 0.1005 - accuracy: 0.8750 - val_loss: 0.1100 - val_accuracy: 0.8359\n",
      "Epoch 47/100\n",
      "103/103 [==============================] - 0s 3ms/step - loss: 0.0993 - accuracy: 0.8555 - val_loss: 0.1123 - val_accuracy: 0.8594\n",
      "Epoch 48/100\n",
      "103/103 [==============================] - 0s 3ms/step - loss: 0.1022 - accuracy: 0.8477 - val_loss: 0.1128 - val_accuracy: 0.8438\n",
      "Epoch 49/100\n",
      "103/103 [==============================] - 0s 3ms/step - loss: 0.0985 - accuracy: 0.8613 - val_loss: 0.1386 - val_accuracy: 0.8203\n",
      "Epoch 50/100\n",
      "103/103 [==============================] - 0s 3ms/step - loss: 0.1138 - accuracy: 0.8398 - val_loss: 0.1008 - val_accuracy: 0.8516\n",
      "Epoch 51/100\n",
      "103/103 [==============================] - 0s 3ms/step - loss: 0.0981 - accuracy: 0.8672 - val_loss: 0.1028 - val_accuracy: 0.8516\n",
      "Epoch 52/100\n",
      "103/103 [==============================] - 0s 3ms/step - loss: 0.0937 - accuracy: 0.8691 - val_loss: 0.1161 - val_accuracy: 0.8438\n",
      "Epoch 53/100\n",
      "103/103 [==============================] - 0s 3ms/step - loss: 0.0997 - accuracy: 0.8633 - val_loss: 0.0905 - val_accuracy: 0.8906\n",
      "Epoch 54/100\n",
      "103/103 [==============================] - 0s 3ms/step - loss: 0.0981 - accuracy: 0.8730 - val_loss: 0.1077 - val_accuracy: 0.8594\n",
      "Epoch 55/100\n",
      "103/103 [==============================] - 0s 3ms/step - loss: 0.0965 - accuracy: 0.8750 - val_loss: 0.0984 - val_accuracy: 0.8828\n",
      "Epoch 56/100\n",
      "103/103 [==============================] - 0s 3ms/step - loss: 0.0999 - accuracy: 0.8613 - val_loss: 0.1128 - val_accuracy: 0.8281\n",
      "Epoch 57/100\n",
      "103/103 [==============================] - 0s 3ms/step - loss: 0.0986 - accuracy: 0.8555 - val_loss: 0.1011 - val_accuracy: 0.8594\n",
      "Epoch 58/100\n",
      "103/103 [==============================] - 0s 3ms/step - loss: 0.0943 - accuracy: 0.8652 - val_loss: 0.1093 - val_accuracy: 0.8594\n",
      "Epoch 59/100\n",
      "103/103 [==============================] - 0s 3ms/step - loss: 0.1016 - accuracy: 0.8613 - val_loss: 0.1231 - val_accuracy: 0.8281\n",
      "Epoch 60/100\n",
      "103/103 [==============================] - 0s 3ms/step - loss: 0.1072 - accuracy: 0.8633 - val_loss: 0.1129 - val_accuracy: 0.8516\n",
      "Epoch 61/100\n",
      "103/103 [==============================] - 0s 3ms/step - loss: 0.0975 - accuracy: 0.8633 - val_loss: 0.1283 - val_accuracy: 0.7969\n",
      "Epoch 62/100\n",
      "103/103 [==============================] - 0s 3ms/step - loss: 0.0990 - accuracy: 0.8574 - val_loss: 0.1038 - val_accuracy: 0.8594\n",
      "Epoch 63/100\n",
      "103/103 [==============================] - 0s 3ms/step - loss: 0.0981 - accuracy: 0.8789 - val_loss: 0.1319 - val_accuracy: 0.7812\n",
      "Epoch 64/100\n",
      "103/103 [==============================] - 0s 3ms/step - loss: 0.0990 - accuracy: 0.8594 - val_loss: 0.1207 - val_accuracy: 0.8047\n",
      "Epoch 65/100\n",
      "103/103 [==============================] - 0s 3ms/step - loss: 0.0901 - accuracy: 0.8809 - val_loss: 0.0838 - val_accuracy: 0.8984\n",
      "Epoch 66/100\n",
      "103/103 [==============================] - 0s 3ms/step - loss: 0.0938 - accuracy: 0.8652 - val_loss: 0.1161 - val_accuracy: 0.8594\n",
      "Epoch 67/100\n",
      "103/103 [==============================] - 0s 3ms/step - loss: 0.0978 - accuracy: 0.8711 - val_loss: 0.1182 - val_accuracy: 0.8516\n",
      "Epoch 68/100\n",
      "103/103 [==============================] - 0s 3ms/step - loss: 0.0880 - accuracy: 0.8750 - val_loss: 0.1475 - val_accuracy: 0.7891\n",
      "Epoch 69/100\n",
      "103/103 [==============================] - 0s 3ms/step - loss: 0.0972 - accuracy: 0.8516 - val_loss: 0.0974 - val_accuracy: 0.8594\n",
      "Epoch 70/100\n",
      "103/103 [==============================] - 0s 3ms/step - loss: 0.0838 - accuracy: 0.8809 - val_loss: 0.1163 - val_accuracy: 0.8516\n",
      "Epoch 71/100\n",
      "103/103 [==============================] - 0s 3ms/step - loss: 0.0954 - accuracy: 0.8633 - val_loss: 0.1076 - val_accuracy: 0.8438\n",
      "Epoch 72/100\n",
      "103/103 [==============================] - 0s 3ms/step - loss: 0.0996 - accuracy: 0.8574 - val_loss: 0.1116 - val_accuracy: 0.8359\n",
      "Epoch 73/100\n",
      "103/103 [==============================] - 0s 3ms/step - loss: 0.0854 - accuracy: 0.8809 - val_loss: 0.1272 - val_accuracy: 0.8203\n",
      "Epoch 74/100\n",
      "103/103 [==============================] - 0s 3ms/step - loss: 0.0923 - accuracy: 0.8711 - val_loss: 0.1163 - val_accuracy: 0.8594\n",
      "Epoch 75/100\n",
      "103/103 [==============================] - 0s 3ms/step - loss: 0.0877 - accuracy: 0.8809 - val_loss: 0.1210 - val_accuracy: 0.8594\n",
      "Epoch 76/100\n",
      "103/103 [==============================] - 0s 2ms/step - loss: 0.0853 - accuracy: 0.8848 - val_loss: 0.0961 - val_accuracy: 0.8750\n",
      "Epoch 77/100\n",
      "103/103 [==============================] - 0s 3ms/step - loss: 0.0876 - accuracy: 0.8828 - val_loss: 0.1211 - val_accuracy: 0.8359\n",
      "Epoch 78/100\n",
      "103/103 [==============================] - 0s 3ms/step - loss: 0.0908 - accuracy: 0.8652 - val_loss: 0.0981 - val_accuracy: 0.9062\n",
      "Epoch 79/100\n",
      "103/103 [==============================] - 0s 3ms/step - loss: 0.0799 - accuracy: 0.9004 - val_loss: 0.1411 - val_accuracy: 0.8047\n",
      "Epoch 80/100\n",
      "103/103 [==============================] - 0s 3ms/step - loss: 0.0906 - accuracy: 0.8730 - val_loss: 0.0818 - val_accuracy: 0.8906\n",
      "Epoch 81/100\n",
      "103/103 [==============================] - 0s 3ms/step - loss: 0.0787 - accuracy: 0.8906 - val_loss: 0.1036 - val_accuracy: 0.8047\n",
      "Epoch 82/100\n",
      "103/103 [==============================] - 0s 3ms/step - loss: 0.0928 - accuracy: 0.8750 - val_loss: 0.0906 - val_accuracy: 0.8984\n",
      "Epoch 83/100\n",
      "103/103 [==============================] - 0s 3ms/step - loss: 0.0808 - accuracy: 0.8770 - val_loss: 0.0760 - val_accuracy: 0.9062\n",
      "Epoch 84/100\n",
      "103/103 [==============================] - 0s 3ms/step - loss: 0.0925 - accuracy: 0.8789 - val_loss: 0.0832 - val_accuracy: 0.8906\n",
      "Epoch 85/100\n",
      "103/103 [==============================] - 0s 3ms/step - loss: 0.0975 - accuracy: 0.8516 - val_loss: 0.1077 - val_accuracy: 0.8281\n",
      "Epoch 86/100\n",
      "103/103 [==============================] - 0s 3ms/step - loss: 0.0967 - accuracy: 0.8594 - val_loss: 0.0975 - val_accuracy: 0.8438\n",
      "Epoch 87/100\n",
      "103/103 [==============================] - 0s 4ms/step - loss: 0.0827 - accuracy: 0.8789 - val_loss: 0.1113 - val_accuracy: 0.8594\n",
      "Epoch 88/100\n",
      "103/103 [==============================] - 0s 3ms/step - loss: 0.0889 - accuracy: 0.8613 - val_loss: 0.0967 - val_accuracy: 0.8672\n",
      "Epoch 89/100\n",
      "103/103 [==============================] - 0s 3ms/step - loss: 0.0849 - accuracy: 0.8809 - val_loss: 0.0955 - val_accuracy: 0.8672\n",
      "Epoch 90/100\n",
      "103/103 [==============================] - 0s 3ms/step - loss: 0.0901 - accuracy: 0.8750 - val_loss: 0.0910 - val_accuracy: 0.8906\n",
      "Epoch 91/100\n",
      "103/103 [==============================] - 0s 3ms/step - loss: 0.0870 - accuracy: 0.8887 - val_loss: 0.1078 - val_accuracy: 0.8281\n",
      "Epoch 92/100\n",
      "103/103 [==============================] - 0s 3ms/step - loss: 0.0797 - accuracy: 0.8867 - val_loss: 0.0966 - val_accuracy: 0.8828\n",
      "Epoch 93/100\n",
      "103/103 [==============================] - 0s 3ms/step - loss: 0.0829 - accuracy: 0.8789 - val_loss: 0.1135 - val_accuracy: 0.8125\n",
      "Epoch 94/100\n",
      "103/103 [==============================] - 0s 4ms/step - loss: 0.0869 - accuracy: 0.8887 - val_loss: 0.0847 - val_accuracy: 0.8828\n",
      "Epoch 95/100\n",
      "103/103 [==============================] - 0s 3ms/step - loss: 0.0815 - accuracy: 0.8770 - val_loss: 0.1166 - val_accuracy: 0.8672\n",
      "Epoch 96/100\n",
      "103/103 [==============================] - 0s 3ms/step - loss: 0.0823 - accuracy: 0.8809 - val_loss: 0.1853 - val_accuracy: 0.7656\n",
      "Epoch 97/100\n",
      "103/103 [==============================] - 0s 3ms/step - loss: 0.1000 - accuracy: 0.8496 - val_loss: 0.0963 - val_accuracy: 0.8828\n",
      "Epoch 98/100\n",
      "103/103 [==============================] - 0s 3ms/step - loss: 0.0739 - accuracy: 0.8926 - val_loss: 0.0967 - val_accuracy: 0.8594\n",
      "Epoch 99/100\n",
      "103/103 [==============================] - 0s 3ms/step - loss: 0.0706 - accuracy: 0.9023 - val_loss: 0.1028 - val_accuracy: 0.8359\n",
      "Epoch 100/100\n",
      "103/103 [==============================] - 0s 3ms/step - loss: 0.0745 - accuracy: 0.8887 - val_loss: 0.1005 - val_accuracy: 0.8516\n"
     ]
    }
   ],
   "source": [
    "import tensorflow as tf \n",
    "from tensorflow import keras\n",
    "\n",
    "model_nn = keras.Sequential()\n",
    "model_nn.add(keras.layers.Dense(units = 512, activation = 'sigmoid'))\n",
    "model_nn.add(keras.layers.Dense(units = 128, activation = 'sigmoid'))\n",
    "model_nn.add(keras.layers.Dense(units = 64, activation = 'sigmoid'))\n",
    "model_nn.add(keras.layers.Dense(units = 32, activation = 'sigmoid'))\n",
    "model_nn.add(keras.layers.Dense(units = 1, activation = 'linear'))\n",
    "\n",
    "\n",
    "optimizer = tf.keras.optimizers.Adam(learning_rate=0.001)\n",
    "\n",
    "\n",
    "model_nn.compile(optimizer=optimizer, loss='mean_squared_error', metrics='accuracy')\n",
    "history  = model_nn.fit(X_train, y_train, batch_size=5, epochs=100, validation_data=[X_test, y_test])\n"
   ]
  },
  {
   "cell_type": "code",
   "execution_count": 109,
   "metadata": {},
   "outputs": [
    {
     "data": {
      "text/plain": [
       "[<matplotlib.lines.Line2D at 0x20d94679890>]"
      ]
     },
     "execution_count": 109,
     "metadata": {},
     "output_type": "execute_result"
    },
    {
     "data": {
      "image/png": "[encoded data removed]",
      "text/plain": [
       "<Figure size 640x480 with 1 Axes>"
      ]
     },
     "metadata": {},
     "output_type": "display_data"
    }
   ],
   "source": [
    "import matplotlib.pyplot as plt\n",
    "plt.plot(history.history['val_loss'], color= 'red')\n",
    "plt.plot(history.history['val_accuracy'], color='blue')\n"
   ]
  },
  {
   "cell_type": "code",
   "execution_count": 110,
   "metadata": {},
   "outputs": [
    {
     "data": {
      "text/plain": [
       "(10, 4167, 2878)"
      ]
     },
     "execution_count": 110,
     "metadata": {},
     "output_type": "execute_result"
    }
   ],
   "source": [
    "import rasterio \n",
    "landslide = rasterio.open('landslide_co11.tif')\n",
    "landslide_array = landslide.read()\n",
    "landslide_reshape = landslide_array.reshape(landslide_array.shape[0],-1).T\n",
    "landslide_reshape.shape\n",
    "landslide_array.shape"
   ]
  },
  {
   "cell_type": "code",
   "execution_count": 111,
   "metadata": {},
   "outputs": [],
   "source": [
    "revise_nan = np.nan_to_num(landslide_reshape)\n",
    "revise_nan[revise_nan == -3.4028235e+38] = 0\n"
   ]
  },
  {
   "cell_type": "code",
   "execution_count": 113,
   "metadata": {},
   "outputs": [
    {
     "name": "stdout",
     "output_type": "stream",
     "text": [
      "374770/374770 [==============================] - 555s 1ms/step\n"
     ]
    }
   ],
   "source": [
    "prediction = model_nn.predict(revise_nan)\n"
   ]
  },
  {
   "cell_type": "code",
   "execution_count": 114,
   "metadata": {},
   "outputs": [
    {
     "data": {
      "text/plain": [
       "(11992626, 1)"
      ]
     },
     "execution_count": 114,
     "metadata": {},
     "output_type": "execute_result"
    }
   ],
   "source": [
    "prediction.shape"
   ]
  },
  {
   "cell_type": "code",
   "execution_count": 115,
   "metadata": {},
   "outputs": [
    {
     "ename": "IndexError",
     "evalue": "index 1 is out of bounds for axis 1 with size 1",
     "output_type": "error",
     "traceback": [
      "\u001b[1;31m---------------------------------------------------------------------------\u001b[0m",
      "\u001b[1;31mIndexError\u001b[0m                                Traceback (most recent call last)",
      "Cell \u001b[1;32mIn[115], line 1\u001b[0m\n\u001b[1;32m----> 1\u001b[0m proabilty \u001b[38;5;241m=\u001b[39m prediction[:,\u001b[38;5;241m1\u001b[39m]\n",
      "\u001b[1;31mIndexError\u001b[0m: index 1 is out of bounds for axis 1 with size 1"
     ]
    }
   ],
   "source": [
    "proabilty = prediction[:,1]"
   ]
  },
  {
   "cell_type": "code",
   "execution_count": 116,
   "metadata": {},
   "outputs": [],
   "source": [
    "proability_reshape = prediction.reshape((4167, 2878))"
   ]
  },
  {
   "cell_type": "code",
   "execution_count": 117,
   "metadata": {},
   "outputs": [
    {
     "data": {
      "text/plain": [
       "<matplotlib.image.AxesImage at 0x20d968d0110>"
      ]
     },
     "execution_count": 117,
     "metadata": {},
     "output_type": "execute_result"
    },
    {
     "data": {
      "image/png": "[encoded data removed]",
      "text/plain": [
       "<Figure size 640x480 with 1 Axes>"
      ]
     },
     "metadata": {},
     "output_type": "display_data"
    }
   ],
   "source": [
    "import matplotlib.pyplot as plt \n",
    "plt.imshow(proability_reshape)"
   ]
  },
  {
   "cell_type": "code",
   "execution_count": 118,
   "metadata": {},
   "outputs": [
    {
     "name": "stdout",
     "output_type": "stream",
     "text": [
      "Predicted land cover image saved as E:\\my_activity\\talar\\Talar\\nn_model.tif\n"
     ]
    }
   ],
   "source": [
    "# Define output file path\n",
    "output_file = r\"E:\\my_activity\\talar\\Talar\\nn_model.tif\"\n",
    "\n",
    "# Get CRS from Landsat image\n",
    "crs = landslide.crs\n",
    "\n",
    "# Define the profile for the output file\n",
    "profile = {\n",
    "    'driver': 'GTiff',\n",
    "    'width': proability_reshape.shape[1],\n",
    "    'height': proability_reshape.shape[0],\n",
    "    'count': 1,  # Number of bands in the output image\n",
    "    'dtype': 'float32',  # Change the dtype as needed\n",
    "    'crs': crs,\n",
    "    'transform': landslide.transform,  # Use the same transform as Landsat image\n",
    "    'nodata': 0  # Define nodata value\n",
    "}\n",
    "\n",
    "# Write the predicted image to the output file\n",
    "with rasterio.open(output_file, 'w', **profile) as dst:\n",
    "    dst.write(proability_reshape.astype(rasterio.float32), 1)  # Write the predicted image to the first band\n",
    "\n",
    "print(\"Predicted landslide prediction image saved as\", output_file)\n"
   ]
  }
 ],
 "metadata": {
  "kernelspec": {
   "display_name": "base",
   "language": "python",
   "name": "python3"
  },
  "language_info": {
   "codemirror_mode": {
    "name": "ipython",
    "version": 3
   },
   "file_extension": ".py",
   "mimetype": "text/x-python",
   "name": "python",
   "nbconvert_exporter": "python",
   "pygments_lexer": "ipython3",
   "version": "3.11.5"
  }
 },
 "nbformat": 4,
 "nbformat_minor": 2
}
