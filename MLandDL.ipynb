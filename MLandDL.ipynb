{
 "cells": [
  {
   "cell_type": "code",
   "execution_count": 4,
   "metadata": {},
   "outputs": [],
   "source": [
    "import os\n",
    "import numpy as np\n",
    "import geopandas as gpd"
   ]
  },
  {
   "cell_type": "code",
   "execution_count": 5,
   "metadata": {},
   "outputs": [],
   "source": [
    "os.chdir(r\"C:\\Users\\Khalil\\Desktop\\Landslide\\data_landslide\")"
   ]
  },
  {
   "cell_type": "code",
   "execution_count": 6,
   "metadata": {},
   "outputs": [
    {
     "data": {
      "text/html": [
       "<div>\n",
       "<style scoped>\n",
       "    .dataframe tbody tr th:only-of-type {\n",
       "        vertical-align: middle;\n",
       "    }\n",
       "\n",
       "    .dataframe tbody tr th {\n",
       "        vertical-align: top;\n",
       "    }\n",
       "\n",
       "    .dataframe thead th {\n",
       "        text-align: right;\n",
       "    }\n",
       "</style>\n",
       "<table border=\"1\" class=\"dataframe\">\n",
       "  <thead>\n",
       "    <tr style=\"text-align: right;\">\n",
       "      <th></th>\n",
       "      <th>landslide</th>\n",
       "      <th>aspect</th>\n",
       "      <th>curvature</th>\n",
       "      <th>dem</th>\n",
       "      <th>dis_fault</th>\n",
       "      <th>dis_rivers</th>\n",
       "      <th>dis_roads</th>\n",
       "      <th>geology</th>\n",
       "      <th>ndvi</th>\n",
       "      <th>slope</th>\n",
       "      <th>TWI</th>\n",
       "    </tr>\n",
       "  </thead>\n",
       "  <tbody>\n",
       "    <tr>\n",
       "      <th>count</th>\n",
       "      <td>640.00000</td>\n",
       "      <td>640.000000</td>\n",
       "      <td>640.000000</td>\n",
       "      <td>640.000000</td>\n",
       "      <td>640.000000</td>\n",
       "      <td>640.000000</td>\n",
       "      <td>640.000000</td>\n",
       "      <td>640.000000</td>\n",
       "      <td>640.000000</td>\n",
       "      <td>640.000000</td>\n",
       "      <td>640.000000</td>\n",
       "    </tr>\n",
       "    <tr>\n",
       "      <th>mean</th>\n",
       "      <td>0.41875</td>\n",
       "      <td>166.984967</td>\n",
       "      <td>-0.158876</td>\n",
       "      <td>1053.575000</td>\n",
       "      <td>1452.301383</td>\n",
       "      <td>1195.676047</td>\n",
       "      <td>719.531573</td>\n",
       "      <td>6.146875</td>\n",
       "      <td>0.524895</td>\n",
       "      <td>16.664896</td>\n",
       "      <td>7.882380</td>\n",
       "    </tr>\n",
       "    <tr>\n",
       "      <th>std</th>\n",
       "      <td>0.49374</td>\n",
       "      <td>112.211997</td>\n",
       "      <td>1.893981</td>\n",
       "      <td>852.998185</td>\n",
       "      <td>1345.255677</td>\n",
       "      <td>987.561083</td>\n",
       "      <td>992.118681</td>\n",
       "      <td>5.634151</td>\n",
       "      <td>0.236297</td>\n",
       "      <td>15.692226</td>\n",
       "      <td>3.509078</td>\n",
       "    </tr>\n",
       "    <tr>\n",
       "      <th>min</th>\n",
       "      <td>0.00000</td>\n",
       "      <td>-0.000000</td>\n",
       "      <td>-18.780000</td>\n",
       "      <td>-24.000000</td>\n",
       "      <td>0.000000</td>\n",
       "      <td>0.000000</td>\n",
       "      <td>0.000000</td>\n",
       "      <td>0.000000</td>\n",
       "      <td>-0.085106</td>\n",
       "      <td>0.000000</td>\n",
       "      <td>0.000000</td>\n",
       "    </tr>\n",
       "    <tr>\n",
       "      <th>25%</th>\n",
       "      <td>0.00000</td>\n",
       "      <td>64.441675</td>\n",
       "      <td>-0.402429</td>\n",
       "      <td>414.500000</td>\n",
       "      <td>444.466000</td>\n",
       "      <td>295.331000</td>\n",
       "      <td>95.417900</td>\n",
       "      <td>3.000000</td>\n",
       "      <td>0.327256</td>\n",
       "      <td>3.006413</td>\n",
       "      <td>5.621005</td>\n",
       "    </tr>\n",
       "    <tr>\n",
       "      <th>50%</th>\n",
       "      <td>0.00000</td>\n",
       "      <td>163.225000</td>\n",
       "      <td>-0.000000</td>\n",
       "      <td>778.500000</td>\n",
       "      <td>967.386500</td>\n",
       "      <td>1039.680000</td>\n",
       "      <td>297.834000</td>\n",
       "      <td>4.000000</td>\n",
       "      <td>0.595888</td>\n",
       "      <td>10.031350</td>\n",
       "      <td>6.776150</td>\n",
       "    </tr>\n",
       "    <tr>\n",
       "      <th>75%</th>\n",
       "      <td>1.00000</td>\n",
       "      <td>270.000000</td>\n",
       "      <td>0.402429</td>\n",
       "      <td>1670.250000</td>\n",
       "      <td>2105.675000</td>\n",
       "      <td>1834.260000</td>\n",
       "      <td>936.991000</td>\n",
       "      <td>6.000000</td>\n",
       "      <td>0.746591</td>\n",
       "      <td>30.082875</td>\n",
       "      <td>8.897583</td>\n",
       "    </tr>\n",
       "    <tr>\n",
       "      <th>max</th>\n",
       "      <td>1.00000</td>\n",
       "      <td>358.387000</td>\n",
       "      <td>10.194900</td>\n",
       "      <td>3765.000000</td>\n",
       "      <td>8547.170000</td>\n",
       "      <td>4391.850000</td>\n",
       "      <td>6444.110000</td>\n",
       "      <td>29.000000</td>\n",
       "      <td>0.816307</td>\n",
       "      <td>67.205100</td>\n",
       "      <td>24.460600</td>\n",
       "    </tr>\n",
       "  </tbody>\n",
       "</table>\n",
       "</div>"
      ],
      "text/plain": [
       "       landslide      aspect   curvature          dem    dis_fault  \\\n",
       "count  640.00000  640.000000  640.000000   640.000000   640.000000   \n",
       "mean     0.41875  166.984967   -0.158876  1053.575000  1452.301383   \n",
       "std      0.49374  112.211997    1.893981   852.998185  1345.255677   \n",
       "min      0.00000   -0.000000  -18.780000   -24.000000     0.000000   \n",
       "25%      0.00000   64.441675   -0.402429   414.500000   444.466000   \n",
       "50%      0.00000  163.225000   -0.000000   778.500000   967.386500   \n",
       "75%      1.00000  270.000000    0.402429  1670.250000  2105.675000   \n",
       "max      1.00000  358.387000   10.194900  3765.000000  8547.170000   \n",
       "\n",
       "        dis_rivers    dis_roads     geology        ndvi       slope  \\\n",
       "count   640.000000   640.000000  640.000000  640.000000  640.000000   \n",
       "mean   1195.676047   719.531573    6.146875    0.524895   16.664896   \n",
       "std     987.561083   992.118681    5.634151    0.236297   15.692226   \n",
       "min       0.000000     0.000000    0.000000   -0.085106    0.000000   \n",
       "25%     295.331000    95.417900    3.000000    0.327256    3.006413   \n",
       "50%    1039.680000   297.834000    4.000000    0.595888   10.031350   \n",
       "75%    1834.260000   936.991000    6.000000    0.746591   30.082875   \n",
       "max    4391.850000  6444.110000   29.000000    0.816307   67.205100   \n",
       "\n",
       "              TWI  \n",
       "count  640.000000  \n",
       "mean     7.882380  \n",
       "std      3.509078  \n",
       "min      0.000000  \n",
       "25%      5.621005  \n",
       "50%      6.776150  \n",
       "75%      8.897583  \n",
       "max     24.460600  "
      ]
     },
     "execution_count": 6,
     "metadata": {},
     "output_type": "execute_result"
    }
   ],
   "source": [
    "data = gpd.read_file('landslide_data.shp')\n",
    "data.describe()"
   ]
  },
  {
   "cell_type": "code",
   "execution_count": 7,
   "metadata": {},
   "outputs": [
    {
     "data": {
      "text/html": [
       "<div>\n",
       "<style scoped>\n",
       "    .dataframe tbody tr th:only-of-type {\n",
       "        vertical-align: middle;\n",
       "    }\n",
       "\n",
       "    .dataframe tbody tr th {\n",
       "        vertical-align: top;\n",
       "    }\n",
       "\n",
       "    .dataframe thead th {\n",
       "        text-align: right;\n",
       "    }\n",
       "</style>\n",
       "<table border=\"1\" class=\"dataframe\">\n",
       "  <thead>\n",
       "    <tr style=\"text-align: right;\">\n",
       "      <th></th>\n",
       "      <th>landslide</th>\n",
       "      <th>aspect</th>\n",
       "      <th>curvature</th>\n",
       "      <th>dem</th>\n",
       "      <th>dis_fault</th>\n",
       "      <th>dis_rivers</th>\n",
       "      <th>dis_roads</th>\n",
       "      <th>geology</th>\n",
       "      <th>ndvi</th>\n",
       "      <th>slope</th>\n",
       "      <th>TWI</th>\n",
       "      <th>geometry</th>\n",
       "    </tr>\n",
       "  </thead>\n",
       "  <tbody>\n",
       "    <tr>\n",
       "      <th>0</th>\n",
       "      <td>1</td>\n",
       "      <td>200.3480</td>\n",
       "      <td>0.134143</td>\n",
       "      <td>1979</td>\n",
       "      <td>1621.970</td>\n",
       "      <td>1202.590</td>\n",
       "      <td>159.204</td>\n",
       "      <td>4</td>\n",
       "      <td>0.640719</td>\n",
       "      <td>9.79564</td>\n",
       "      <td>5.51556</td>\n",
       "      <td>POINT Z (698717.758 3987265.427 0)</td>\n",
       "    </tr>\n",
       "    <tr>\n",
       "      <th>1</th>\n",
       "      <td>1</td>\n",
       "      <td>56.3938</td>\n",
       "      <td>-0.268286</td>\n",
       "      <td>2373</td>\n",
       "      <td>891.445</td>\n",
       "      <td>2934.820</td>\n",
       "      <td>136.517</td>\n",
       "      <td>4</td>\n",
       "      <td>0.223214</td>\n",
       "      <td>33.92810</td>\n",
       "      <td>4.88805</td>\n",
       "      <td>POINT Z (660286.607 3985370.803 0)</td>\n",
       "    </tr>\n",
       "    <tr>\n",
       "      <th>2</th>\n",
       "      <td>1</td>\n",
       "      <td>350.1060</td>\n",
       "      <td>5.499870</td>\n",
       "      <td>493</td>\n",
       "      <td>1001.330</td>\n",
       "      <td>675.447</td>\n",
       "      <td>628.570</td>\n",
       "      <td>6</td>\n",
       "      <td>0.723589</td>\n",
       "      <td>46.44230</td>\n",
       "      <td>3.60129</td>\n",
       "      <td>POINT Z (669162.406 4015433.251 0)</td>\n",
       "    </tr>\n",
       "    <tr>\n",
       "      <th>3</th>\n",
       "      <td>1</td>\n",
       "      <td>301.1580</td>\n",
       "      <td>2.012150</td>\n",
       "      <td>501</td>\n",
       "      <td>1306.570</td>\n",
       "      <td>273.033</td>\n",
       "      <td>342.110</td>\n",
       "      <td>3</td>\n",
       "      <td>0.687533</td>\n",
       "      <td>33.30540</td>\n",
       "      <td>5.15042</td>\n",
       "      <td>POINT Z (669985.232 4016236.274 0)</td>\n",
       "    </tr>\n",
       "    <tr>\n",
       "      <th>4</th>\n",
       "      <td>1</td>\n",
       "      <td>-0.0000</td>\n",
       "      <td>-0.134143</td>\n",
       "      <td>478</td>\n",
       "      <td>911.294</td>\n",
       "      <td>213.246</td>\n",
       "      <td>610.521</td>\n",
       "      <td>3</td>\n",
       "      <td>0.706312</td>\n",
       "      <td>26.64850</td>\n",
       "      <td>6.34193</td>\n",
       "      <td>POINT Z (672826.651 4016706.5 0)</td>\n",
       "    </tr>\n",
       "    <tr>\n",
       "      <th>...</th>\n",
       "      <td>...</td>\n",
       "      <td>...</td>\n",
       "      <td>...</td>\n",
       "      <td>...</td>\n",
       "      <td>...</td>\n",
       "      <td>...</td>\n",
       "      <td>...</td>\n",
       "      <td>...</td>\n",
       "      <td>...</td>\n",
       "      <td>...</td>\n",
       "      <td>...</td>\n",
       "      <td>...</td>\n",
       "    </tr>\n",
       "    <tr>\n",
       "      <th>635</th>\n",
       "      <td>0</td>\n",
       "      <td>320.5080</td>\n",
       "      <td>-0.134143</td>\n",
       "      <td>1987</td>\n",
       "      <td>613.566</td>\n",
       "      <td>2244.360</td>\n",
       "      <td>371.366</td>\n",
       "      <td>4</td>\n",
       "      <td>0.584678</td>\n",
       "      <td>10.69100</td>\n",
       "      <td>6.63453</td>\n",
       "      <td>POINT Z (699711.538 3986952.664 0)</td>\n",
       "    </tr>\n",
       "    <tr>\n",
       "      <th>636</th>\n",
       "      <td>0</td>\n",
       "      <td>31.7209</td>\n",
       "      <td>-0.134143</td>\n",
       "      <td>1936</td>\n",
       "      <td>810.408</td>\n",
       "      <td>2294.940</td>\n",
       "      <td>172.682</td>\n",
       "      <td>4</td>\n",
       "      <td>0.561526</td>\n",
       "      <td>6.51402</td>\n",
       "      <td>8.06491</td>\n",
       "      <td>POINT Z (699793.433 3987398.593 0)</td>\n",
       "    </tr>\n",
       "    <tr>\n",
       "      <th>637</th>\n",
       "      <td>0</td>\n",
       "      <td>17.1745</td>\n",
       "      <td>-0.268286</td>\n",
       "      <td>1929</td>\n",
       "      <td>993.857</td>\n",
       "      <td>2198.050</td>\n",
       "      <td>115.838</td>\n",
       "      <td>4</td>\n",
       "      <td>0.583911</td>\n",
       "      <td>7.71918</td>\n",
       "      <td>6.87510</td>\n",
       "      <td>POINT Z (699693.641 3987577.574 0)</td>\n",
       "    </tr>\n",
       "    <tr>\n",
       "      <th>638</th>\n",
       "      <td>0</td>\n",
       "      <td>180.0000</td>\n",
       "      <td>0.134143</td>\n",
       "      <td>1971</td>\n",
       "      <td>1749.550</td>\n",
       "      <td>1623.570</td>\n",
       "      <td>426.492</td>\n",
       "      <td>4</td>\n",
       "      <td>0.582831</td>\n",
       "      <td>1.85433</td>\n",
       "      <td>7.33461</td>\n",
       "      <td>POINT Z (698604.838 3988513.495 0)</td>\n",
       "    </tr>\n",
       "    <tr>\n",
       "      <th>639</th>\n",
       "      <td>0</td>\n",
       "      <td>270.0000</td>\n",
       "      <td>0.402429</td>\n",
       "      <td>1977</td>\n",
       "      <td>2007.860</td>\n",
       "      <td>1513.800</td>\n",
       "      <td>410.459</td>\n",
       "      <td>4</td>\n",
       "      <td>0.592378</td>\n",
       "      <td>1.14656</td>\n",
       "      <td>7.38809</td>\n",
       "      <td>POINT Z (698694.689 3988284.435 0)</td>\n",
       "    </tr>\n",
       "  </tbody>\n",
       "</table>\n",
       "<p>640 rows × 12 columns</p>\n",
       "</div>"
      ],
      "text/plain": [
       "     landslide    aspect  curvature   dem  dis_fault  dis_rivers  dis_roads  \\\n",
       "0            1  200.3480   0.134143  1979   1621.970    1202.590    159.204   \n",
       "1            1   56.3938  -0.268286  2373    891.445    2934.820    136.517   \n",
       "2            1  350.1060   5.499870   493   1001.330     675.447    628.570   \n",
       "3            1  301.1580   2.012150   501   1306.570     273.033    342.110   \n",
       "4            1   -0.0000  -0.134143   478    911.294     213.246    610.521   \n",
       "..         ...       ...        ...   ...        ...         ...        ...   \n",
       "635          0  320.5080  -0.134143  1987    613.566    2244.360    371.366   \n",
       "636          0   31.7209  -0.134143  1936    810.408    2294.940    172.682   \n",
       "637          0   17.1745  -0.268286  1929    993.857    2198.050    115.838   \n",
       "638          0  180.0000   0.134143  1971   1749.550    1623.570    426.492   \n",
       "639          0  270.0000   0.402429  1977   2007.860    1513.800    410.459   \n",
       "\n",
       "     geology      ndvi     slope      TWI                            geometry  \n",
       "0          4  0.640719   9.79564  5.51556  POINT Z (698717.758 3987265.427 0)  \n",
       "1          4  0.223214  33.92810  4.88805  POINT Z (660286.607 3985370.803 0)  \n",
       "2          6  0.723589  46.44230  3.60129  POINT Z (669162.406 4015433.251 0)  \n",
       "3          3  0.687533  33.30540  5.15042  POINT Z (669985.232 4016236.274 0)  \n",
       "4          3  0.706312  26.64850  6.34193    POINT Z (672826.651 4016706.5 0)  \n",
       "..       ...       ...       ...      ...                                 ...  \n",
       "635        4  0.584678  10.69100  6.63453  POINT Z (699711.538 3986952.664 0)  \n",
       "636        4  0.561526   6.51402  8.06491  POINT Z (699793.433 3987398.593 0)  \n",
       "637        4  0.583911   7.71918  6.87510  POINT Z (699693.641 3987577.574 0)  \n",
       "638        4  0.582831   1.85433  7.33461  POINT Z (698604.838 3988513.495 0)  \n",
       "639        4  0.592378   1.14656  7.38809  POINT Z (698694.689 3988284.435 0)  \n",
       "\n",
       "[640 rows x 12 columns]"
      ]
     },
     "execution_count": 7,
     "metadata": {},
     "output_type": "execute_result"
    }
   ],
   "source": [
    "data_array = np.array(data)\n",
    "data"
   ]
  },
  {
   "cell_type": "code",
   "execution_count": 8,
   "metadata": {},
   "outputs": [
    {
     "data": {
      "text/plain": [
       "(640, 10)"
      ]
     },
     "execution_count": 8,
     "metadata": {},
     "output_type": "execute_result"
    }
   ],
   "source": [
    "X = data_array[:,1:11]\n",
    "X.shape"
   ]
  },
  {
   "cell_type": "code",
   "execution_count": 9,
   "metadata": {},
   "outputs": [
    {
     "data": {
      "text/plain": [
       "(640, 1)"
      ]
     },
     "execution_count": 9,
     "metadata": {},
     "output_type": "execute_result"
    }
   ],
   "source": [
    "Y = data_array[:,:1]\n",
    "# one_columns = np.ones((640,1))\n",
    "# Y = np.column_stack([Y, one_columns])\n",
    "Y= Y.astype(int)\n",
    "Y.shape"
   ]
  },
  {
   "cell_type": "code",
   "execution_count": 10,
   "metadata": {},
   "outputs": [
    {
     "name": "stdout",
     "output_type": "stream",
     "text": [
      "shape of X train (512, 10)\n",
      "shape of X test (128, 10)\n",
      "shape of y train (512, 1)\n",
      "shape of y test (128, 1)\n"
     ]
    }
   ],
   "source": [
    "from sklearn.model_selection import train_test_split\n",
    "X_train, X_test, y_train, y_test = train_test_split(X,Y, test_size=0.2, random_state=42,)\n",
    "print('shape of X train', X_train.shape)\n",
    "print(\"shape of X test\", X_test.shape)\n",
    "print(\"shape of y train\", y_train.shape)\n",
    "print(\"shape of y test\", y_test.shape)"
   ]
  },
  {
   "cell_type": "code",
   "execution_count": 11,
   "metadata": {},
   "outputs": [],
   "source": [
    "X_train = np.asarray(X_train).astype('float32')\n",
    "y_train = np.asarray(y_train).astype('float32')\n",
    "X_test = np.asarray(X_test).astype('float32')\n",
    "y_test = np.asarray(y_test).astype('float32')\n"
   ]
  },
  {
   "cell_type": "code",
   "execution_count": 12,
   "metadata": {},
   "outputs": [],
   "source": [
    "from sklearn.preprocessing import StandardScaler\n",
    "scaler = StandardScaler()\n",
    "X_train_scaled = scaler.fit_transform(X_train)\n",
    "X_test_scaled = scaler.transform(X_test)"
   ]
  },
  {
   "cell_type": "code",
   "execution_count": 13,
   "metadata": {},
   "outputs": [
    {
     "name": "stderr",
     "output_type": "stream",
     "text": [
      "C:\\Users\\Khalil\\AppData\\Local\\Temp\\ipykernel_94744\\4270608766.py:8: DataConversionWarning: A column-vector y was passed when a 1d array was expected. Please change the shape of y to (n_samples,), for example using ravel().\n",
      "  model_rf.fit(X_train_scaled, y_train)\n"
     ]
    },
    {
     "name": "stdout",
     "output_type": "stream",
     "text": [
      "Mean Squared Error: 0.02933671875\n"
     ]
    }
   ],
   "source": [
    "from sklearn.ensemble import RandomForestRegressor\n",
    "from sklearn.metrics import mean_squared_error\n",
    "\n",
    "# Define the model\n",
    "model_rf = RandomForestRegressor()\n",
    "\n",
    "# Fit the model\n",
    "model_rf.fit(X_train_scaled, y_train)\n",
    "\n",
    "\n",
    "# Predict on the test data\n",
    "y_pred = model_rf.predict(X_test_scaled)\n",
    "\n",
    "# Calculate the mean squared error\n",
    "accuracy = mean_squared_error(y_test, y_pred)\n",
    "\n",
    "# Print the best hyperparameters and performance\n",
    "print(\"Mean Squared Error:\", accuracy)\n"
   ]
  },
  {
   "cell_type": "code",
   "execution_count": 29,
   "metadata": {},
   "outputs": [
    {
     "name": "stdout",
     "output_type": "stream",
     "text": [
      "Mean Squared Error: 0.02933671875\n"
     ]
    },
    {
     "name": "stderr",
     "output_type": "stream",
     "text": [
      "c:\\Users\\Khalil\\anaconda3\\Lib\\site-packages\\sklearn\\utils\\validation.py:1143: DataConversionWarning: A column-vector y was passed when a 1d array was expected. Please change the shape of y to (n_samples, ), for example using ravel().\n",
      "  y = column_or_1d(y, warn=True)\n"
     ]
    }
   ],
   "source": [
    "from sklearn.svm import SVR\n",
    "from sklearn.metrics import mean_squared_error\n",
    "\n",
    "# Define the model\n",
    "model_svm = SVR()\n",
    "\n",
    "# Fit the model\n",
    "model_svm.fit(X_train_scaled, y_train)\n",
    "\n",
    "\n",
    "# Predict on the test data\n",
    "y_pred = model_rf.predict(X_test_scaled)\n",
    "\n",
    "# Calculate the mean squared error\n",
    "accuracy = mean_squared_error(y_test, y_pred)\n",
    "\n",
    "# Print the best hyperparameters and performance\n",
    "print(\"Mean Squared Error:\", accuracy)\n"
   ]
  },
  {
   "cell_type": "code",
   "execution_count": 14,
   "metadata": {},
   "outputs": [
    {
     "data": {
      "text/plain": [
       "(10, 4167, 2878)"
      ]
     },
     "execution_count": 14,
     "metadata": {},
     "output_type": "execute_result"
    }
   ],
   "source": [
    "import rasterio \n",
    "landslide = rasterio.open('landslide_co11.tif')\n",
    "landslide_array = landslide.read()\n",
    "landslide_reshape = landslide_array.reshape(landslide_array.shape[0],-1).T\n",
    "landslide_reshape.shape\n",
    "landslide_array.shape"
   ]
  },
  {
   "cell_type": "code",
   "execution_count": 22,
   "metadata": {},
   "outputs": [
    {
     "name": "stderr",
     "output_type": "stream",
     "text": [
      "c:\\Users\\Khalil\\anaconda3\\Lib\\site-packages\\numpy\\core\\fromnumeric.py:88: RuntimeWarning: invalid value encountered in reduce\n",
      "  return ufunc.reduce(obj, axis, dtype, out, **passkwargs)\n"
     ]
    }
   ],
   "source": [
    "revise_nan = np.nan_to_num(landslide_reshape)\n",
    "revise_nan[revise_nan == -3.4028235e+38] = 0\n",
    "revise_nan = scaler.transform(revise_nan)\n"
   ]
  },
  {
   "cell_type": "code",
   "execution_count": 30,
   "metadata": {},
   "outputs": [],
   "source": [
    "prediction = model_svm.predict(revise_nan)\n"
   ]
  },
  {
   "cell_type": "code",
   "execution_count": 31,
   "metadata": {},
   "outputs": [
    {
     "data": {
      "text/plain": [
       "(11992626,)"
      ]
     },
     "execution_count": 31,
     "metadata": {},
     "output_type": "execute_result"
    }
   ],
   "source": [
    "prediction.shape"
   ]
  },
  {
   "cell_type": "code",
   "execution_count": 32,
   "metadata": {},
   "outputs": [],
   "source": [
    "proability_reshape = prediction.reshape((4167, 2878))"
   ]
  },
  {
   "cell_type": "code",
   "execution_count": 33,
   "metadata": {},
   "outputs": [
    {
     "data": {
      "text/plain": [
       "<matplotlib.image.AxesImage at 0x121ea482110>"
      ]
     },
     "execution_count": 33,
     "metadata": {},
     "output_type": "execute_result"
    },
    {
     "data": {
      "image/png": "[encoded data removed]",
      "text/plain": [
       "<Figure size 640x480 with 1 Axes>"
      ]
     },
     "metadata": {},
     "output_type": "display_data"
    }
   ],
   "source": [
    "import matplotlib.pyplot as plt \n",
    "plt.imshow(proability_reshape)"
   ]
  },
  {
   "cell_type": "code",
   "execution_count": 34,
   "metadata": {},
   "outputs": [
    {
     "name": "stdout",
     "output_type": "stream",
     "text": [
      "Predicted landslide prediction image saved as C:\\Users\\Khalil\\Desktop\\Landslide\\data_landslide\\svm_model.tif\n"
     ]
    }
   ],
   "source": [
    "# Define output file path\n",
    "output_file = r\"C:\\Users\\Khalil\\Desktop\\Landslide\\data_landslide\\svm_model.tif\"\n",
    "\n",
    "# Get CRS from Landsat image\n",
    "crs = landslide.crs\n",
    "\n",
    "# Define the profile for the output file\n",
    "profile = {\n",
    "    'driver': 'GTiff',\n",
    "    'width': proability_reshape.shape[1],\n",
    "    'height': proability_reshape.shape[0],\n",
    "    'count': 1,  # Number of bands in the output image\n",
    "    'dtype': 'float32',  # Change the dtype as needed\n",
    "    'crs': crs,\n",
    "    'transform': landslide.transform,  # Use the same transform as Landsat image\n",
    "    'nodata': 0  # Define nodata value\n",
    "}\n",
    "\n",
    "# Write the predicted image to the output file\n",
    "with rasterio.open(output_file, 'w', **profile) as dst:\n",
    "    dst.write(proability_reshape.astype(rasterio.float32), 1)  # Write the predicted image to the first band\n",
    "\n",
    "print(\"Predicted landslide prediction image saved as\", output_file)\n"
   ]
  }
 ],
 "metadata": {
  "kernelspec": {
   "display_name": "base",
   "language": "python",
   "name": "python3"
  },
  "language_info": {
   "codemirror_mode": {
    "name": "ipython",
    "version": 3
   },
   "file_extension": ".py",
   "mimetype": "text/x-python",
   "name": "python",
   "nbconvert_exporter": "python",
   "pygments_lexer": "ipython3",
   "version": "3.11.7"
  }
 },
 "nbformat": 4,
 "nbformat_minor": 2
}
